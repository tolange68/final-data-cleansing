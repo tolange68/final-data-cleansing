{
 "cells": [
  {
   "cell_type": "code",
   "execution_count": 27,
   "id": "0d62d7b8-d3e5-4385-b900-140f5761e3bd",
   "metadata": {},
   "outputs": [],
   "source": [
    "import pandas as pd\n",
    "from sklearn.model_selection import train_test_split\n",
    "from sklearn.preprocessing import StandardScaler\n",
    "from sklearn.preprocessing import MinMaxScaler\n"
   ]
  },
  {
   "cell_type": "code",
   "execution_count": 18,
   "id": "cb85ce52-da91-47ab-b935-e9d3a7b396bf",
   "metadata": {},
   "outputs": [
    {
     "name": "stdout",
     "output_type": "stream",
     "text": [
      "<class 'pandas.core.frame.DataFrame'>\n",
      "RangeIndex: 7043 entries, 0 to 7042\n",
      "Data columns (total 10 columns):\n",
      " #   Column           Non-Null Count  Dtype  \n",
      "---  ------           --------------  -----  \n",
      " 0   gender           7043 non-null   object \n",
      " 1   SeniorCitizen    7043 non-null   int64  \n",
      " 2   Dependents       7043 non-null   object \n",
      " 3   tenure           7043 non-null   int64  \n",
      " 4   PhoneService     7043 non-null   object \n",
      " 5   MultipleLines    7043 non-null   object \n",
      " 6   InternetService  7043 non-null   object \n",
      " 7   Contract         7043 non-null   object \n",
      " 8   MonthlyCharges   7043 non-null   float64\n",
      " 9   Churn            7043 non-null   object \n",
      "dtypes: float64(1), int64(2), object(7)\n",
      "memory usage: 550.4+ KB\n"
     ]
    }
   ],
   "source": [
    "file_path = r'C:\\Users\\tolan\\Downloads\\Dataset (ATS)-1.csv'\n",
    "dataset = pd.read_csv(file_path)\n",
    "\n",
    "dataset.info()"
   ]
  },
  {
   "cell_type": "code",
   "execution_count": 22,
   "id": "593aefce-34d3-43e7-868c-93104b12bdc1",
   "metadata": {},
   "outputs": [],
   "source": [
    "missing_data = data.isnull().sum()\n",
    "missing_data\n",
    "\n",
    "data_cleaned = data.dropna().copy()\n"
   ]
  },
  {
   "cell_type": "code",
   "execution_count": 19,
   "id": "42d42ab5-caf9-4f29-a6f1-f36cf702af59",
   "metadata": {},
   "outputs": [
    {
     "name": "stdout",
     "output_type": "stream",
     "text": [
      "Number of duplicate rows: 103\n"
     ]
    }
   ],
   "source": [
    "duplicates = dataset.duplicated().sum()\n",
    "print(f\"Number of duplicate rows: {duplicates}\")"
   ]
  },
  {
   "cell_type": "code",
   "execution_count": 5,
   "id": "e6cfb76b-8d05-43a9-9d44-9a72ea3deef8",
   "metadata": {},
   "outputs": [
    {
     "name": "stdout",
     "output_type": "stream",
     "text": [
      "Shape of the dataset after removing duplicates: (6940, 10)\n"
     ]
    }
   ],
   "source": [
    "data_cleaned = data.drop_duplicates()\n",
    "print(f\"Shape of the dataset after removing duplicates: {data_cleaned.shape}\")"
   ]
  },
  {
   "cell_type": "code",
   "execution_count": 35,
   "id": "a0ae8d40-2f3f-452f-8f8c-6d6eeacf1b7c",
   "metadata": {},
   "outputs": [],
   "source": [
    "data['Dependents'] = data['Dependents'].fillna('No')\n",
    "data['PhoneService'] = data['PhoneService'].fillna('No')\n",
    "data['MultipleLines'] = data['MultipleLines'].fillna('No')\n",
    "data['Churn'] = data['Churn'].fillna('No')\n",
    "\n",
    "data_cleaned = data.copy()\n",
    "data_cleaned['Dependents'] = data_cleaned['Dependents'].map({'Yes': 1, 'No': 0}).astype(int)\n",
    "data_cleaned['PhoneService'] = data_cleaned['PhoneService'].map({'Yes': 1, 'No': 0}).astype(int)\n",
    "data_cleaned['MultipleLines'] = data_cleaned['MultipleLines'].map({'Yes': 1, 'No': 0}).astype(int)\n",
    "data_cleaned['Churn'] = data_cleaned['Churn'].map({'Yes': 1, 'No': 0}).astype(int)\n",
    "\n",
    "data_cleaned = pd.get_dummies(data_cleaned, columns=['gender', 'InternetService', 'Contract'])\n",
    "\n",
    "\n",
    "data_cleaned['SeniorCitizen'] = data_cleaned['SeniorCitizen'].astype(int)\n",
    "\n",
    "data_cleaned['MonthlyCharges'] = pd.to_numeric(data_cleaned['MonthlyCharges'])\n",
    "\n",
    "scaler = MinMaxScaler()\n",
    "data_cleaned[['tenure', 'MonthlyCharges']] = scaler.fit_transform(data_cleaned[['tenure', 'MonthlyCharges']])\n"
   ]
  },
  {
   "cell_type": "code",
   "execution_count": 7,
   "id": "fe668dd9-daee-4f31-aa13-f166abd2aa9b",
   "metadata": {},
   "outputs": [],
   "source": [
    "X = data_encoded.drop(columns=['Churn_Yes'])\n",
    "y = data_encoded['Churn_Yes']\n",
    "X_train, X_test, y_train, y_test = train_test_split(X, y, test_size=0.2, random_state=42)"
   ]
  },
  {
   "cell_type": "code",
   "execution_count": 8,
   "id": "b308314d-d3f1-47e1-943b-0ebf5b28394e",
   "metadata": {},
   "outputs": [
    {
     "data": {
      "text/plain": [
       "array([[-4.37749204e-01, -4.65683364e-01, -4.73723375e-04,\n",
       "        -1.02516569e+00,  1.53218588e+00,  3.29573443e-01,\n",
       "        -8.60523366e-01, -8.87056733e-01,  1.91010860e+00,\n",
       "        -5.58352808e-01],\n",
       "       [-4.37749204e-01,  8.85536787e-01,  1.07475386e+00,\n",
       "        -1.02516569e+00, -6.52662324e-01,  3.29573443e-01,\n",
       "         1.16208349e+00,  1.12732361e+00, -5.23530443e-01,\n",
       "         1.79098231e+00],\n",
       "       [-4.37749204e-01, -1.28460467e+00, -1.37649913e+00,\n",
       "         9.75452077e-01, -6.52662324e-01, -3.03422506e+00,\n",
       "        -8.60523366e-01, -8.87056733e-01, -5.23530443e-01,\n",
       "        -5.58352808e-01],\n",
       "       [-4.37749204e-01, -1.16176647e+00,  1.77345985e-01,\n",
       "         9.75452077e-01, -6.52662324e-01,  3.29573443e-01,\n",
       "        -8.60523366e-01,  1.12732361e+00, -5.23530443e-01,\n",
       "        -5.58352808e-01],\n",
       "       [-4.37749204e-01, -1.32555073e+00, -9.85238431e-02,\n",
       "         9.75452077e-01,  1.53218588e+00,  3.29573443e-01,\n",
       "         1.16208349e+00, -8.87056733e-01, -5.23530443e-01,\n",
       "         1.79098231e+00]])"
      ]
     },
     "execution_count": 8,
     "metadata": {},
     "output_type": "execute_result"
    }
   ],
   "source": [
    "scaler = StandardScaler()\n",
    "X_train_scaled = scaler.fit_transform(X_train)\n",
    "X_test_scaled = scaler.transform(X_test)\n",
    "X_train_scaled[:5]"
   ]
  },
  {
   "cell_type": "code",
   "execution_count": 9,
   "id": "9e875df5-964a-4d94-aa72-6a0176591704",
   "metadata": {},
   "outputs": [
    {
     "name": "stdout",
     "output_type": "stream",
     "text": [
      "Training data shape: (5634, 10)\n",
      "Testing data shape: (1409, 10)\n"
     ]
    }
   ],
   "source": [
    "print(f\"Training data shape: {X_train.shape}\")\n",
    "print(f\"Testing data shape: {X_test.shape}\")"
   ]
  },
  {
   "cell_type": "code",
   "execution_count": 36,
   "id": "a974bd4c-aaf8-4c32-a0c7-bfa8e78444e6",
   "metadata": {},
   "outputs": [
    {
     "name": "stdout",
     "output_type": "stream",
     "text": [
      "\n",
      "Cleaned and Processed Data:\n"
     ]
    },
    {
     "data": {
      "text/html": [
       "<div>\n",
       "<style scoped>\n",
       "    .dataframe tbody tr th:only-of-type {\n",
       "        vertical-align: middle;\n",
       "    }\n",
       "\n",
       "    .dataframe tbody tr th {\n",
       "        vertical-align: top;\n",
       "    }\n",
       "\n",
       "    .dataframe thead th {\n",
       "        text-align: right;\n",
       "    }\n",
       "</style>\n",
       "<table border=\"1\" class=\"dataframe\">\n",
       "  <thead>\n",
       "    <tr style=\"text-align: right;\">\n",
       "      <th></th>\n",
       "      <th>SeniorCitizen</th>\n",
       "      <th>Dependents</th>\n",
       "      <th>tenure</th>\n",
       "      <th>PhoneService</th>\n",
       "      <th>MultipleLines</th>\n",
       "      <th>MonthlyCharges</th>\n",
       "      <th>Churn</th>\n",
       "      <th>gender_Female</th>\n",
       "      <th>gender_Male</th>\n",
       "      <th>InternetService_DSL</th>\n",
       "      <th>InternetService_Fiber optic</th>\n",
       "      <th>Contract_Month-to-month</th>\n",
       "      <th>Contract_One year</th>\n",
       "      <th>Contract_Two year</th>\n",
       "    </tr>\n",
       "  </thead>\n",
       "  <tbody>\n",
       "    <tr>\n",
       "      <th>0</th>\n",
       "      <td>0</td>\n",
       "      <td>0</td>\n",
       "      <td>0.013889</td>\n",
       "      <td>0</td>\n",
       "      <td>0</td>\n",
       "      <td>0.115423</td>\n",
       "      <td>0</td>\n",
       "      <td>True</td>\n",
       "      <td>False</td>\n",
       "      <td>True</td>\n",
       "      <td>False</td>\n",
       "      <td>True</td>\n",
       "      <td>False</td>\n",
       "      <td>False</td>\n",
       "    </tr>\n",
       "    <tr>\n",
       "      <th>1</th>\n",
       "      <td>0</td>\n",
       "      <td>0</td>\n",
       "      <td>0.472222</td>\n",
       "      <td>1</td>\n",
       "      <td>0</td>\n",
       "      <td>0.385075</td>\n",
       "      <td>0</td>\n",
       "      <td>False</td>\n",
       "      <td>True</td>\n",
       "      <td>True</td>\n",
       "      <td>False</td>\n",
       "      <td>False</td>\n",
       "      <td>True</td>\n",
       "      <td>False</td>\n",
       "    </tr>\n",
       "    <tr>\n",
       "      <th>2</th>\n",
       "      <td>0</td>\n",
       "      <td>0</td>\n",
       "      <td>0.027778</td>\n",
       "      <td>1</td>\n",
       "      <td>0</td>\n",
       "      <td>0.354229</td>\n",
       "      <td>1</td>\n",
       "      <td>False</td>\n",
       "      <td>True</td>\n",
       "      <td>True</td>\n",
       "      <td>False</td>\n",
       "      <td>True</td>\n",
       "      <td>False</td>\n",
       "      <td>False</td>\n",
       "    </tr>\n",
       "    <tr>\n",
       "      <th>3</th>\n",
       "      <td>0</td>\n",
       "      <td>0</td>\n",
       "      <td>0.625000</td>\n",
       "      <td>0</td>\n",
       "      <td>0</td>\n",
       "      <td>0.239303</td>\n",
       "      <td>0</td>\n",
       "      <td>False</td>\n",
       "      <td>True</td>\n",
       "      <td>True</td>\n",
       "      <td>False</td>\n",
       "      <td>False</td>\n",
       "      <td>True</td>\n",
       "      <td>False</td>\n",
       "    </tr>\n",
       "    <tr>\n",
       "      <th>4</th>\n",
       "      <td>0</td>\n",
       "      <td>0</td>\n",
       "      <td>0.027778</td>\n",
       "      <td>1</td>\n",
       "      <td>0</td>\n",
       "      <td>0.521891</td>\n",
       "      <td>1</td>\n",
       "      <td>True</td>\n",
       "      <td>False</td>\n",
       "      <td>False</td>\n",
       "      <td>True</td>\n",
       "      <td>True</td>\n",
       "      <td>False</td>\n",
       "      <td>False</td>\n",
       "    </tr>\n",
       "  </tbody>\n",
       "</table>\n",
       "</div>"
      ],
      "text/plain": [
       "   SeniorCitizen  Dependents    tenure  PhoneService  MultipleLines  \\\n",
       "0              0           0  0.013889             0              0   \n",
       "1              0           0  0.472222             1              0   \n",
       "2              0           0  0.027778             1              0   \n",
       "3              0           0  0.625000             0              0   \n",
       "4              0           0  0.027778             1              0   \n",
       "\n",
       "   MonthlyCharges  Churn  gender_Female  gender_Male  InternetService_DSL  \\\n",
       "0        0.115423      0           True        False                 True   \n",
       "1        0.385075      0          False         True                 True   \n",
       "2        0.354229      1          False         True                 True   \n",
       "3        0.239303      0          False         True                 True   \n",
       "4        0.521891      1           True        False                False   \n",
       "\n",
       "   InternetService_Fiber optic  Contract_Month-to-month  Contract_One year  \\\n",
       "0                        False                     True              False   \n",
       "1                        False                    False               True   \n",
       "2                        False                     True              False   \n",
       "3                        False                    False               True   \n",
       "4                         True                     True              False   \n",
       "\n",
       "   Contract_Two year  \n",
       "0              False  \n",
       "1              False  \n",
       "2              False  \n",
       "3              False  \n",
       "4              False  "
      ]
     },
     "metadata": {},
     "output_type": "display_data"
    }
   ],
   "source": [
    "print(\"\\nCleaned and Processed Data:\")\n",
    "display(data_cleaned.head())"
   ]
  },
  {
   "cell_type": "code",
   "execution_count": null,
   "id": "8f797a7a-c4b6-44db-bf7e-9e1543c1e9ab",
   "metadata": {},
   "outputs": [],
   "source": []
  },
  {
   "cell_type": "code",
   "execution_count": 37,
   "id": "4889f69e-3cd8-406e-978e-5e4895def4ed",
   "metadata": {},
   "outputs": [],
   "source": [
    "cleaned_file_path = 'processed_data.csv'\n",
    "data_encoded.to_csv(cleaned_file_path, index=False)"
   ]
  },
  {
   "cell_type": "code",
   "execution_count": 39,
   "id": "c25b920e-6ad5-49b6-b0fe-52999bfa547a",
   "metadata": {},
   "outputs": [],
   "source": [
    "import os\n",
    "cleaned_file_path = 'processed_data.csv'\n"
   ]
  },
  {
   "cell_type": "code",
   "execution_count": null,
   "id": "0a0ecd16-06b3-47c0-a77f-4293b8fecc6d",
   "metadata": {},
   "outputs": [],
   "source": []
  },
  {
   "cell_type": "code",
   "execution_count": null,
   "id": "c8c10f9f-6a87-4da7-ae36-272c7b8e7ca0",
   "metadata": {},
   "outputs": [],
   "source": []
  }
 ],
 "metadata": {
  "kernelspec": {
   "display_name": "Python 3 (ipykernel)",
   "language": "python",
   "name": "python3"
  },
  "language_info": {
   "codemirror_mode": {
    "name": "ipython",
    "version": 3
   },
   "file_extension": ".py",
   "mimetype": "text/x-python",
   "name": "python",
   "nbconvert_exporter": "python",
   "pygments_lexer": "ipython3",
   "version": "3.12.4"
  }
 },
 "nbformat": 4,
 "nbformat_minor": 5
}
